{
 "cells": [
  {
   "cell_type": "markdown",
   "id": "1f85e199",
   "metadata": {},
   "source": [
    "# Utility Functions"
   ]
  },
  {
   "cell_type": "code",
   "execution_count": null,
   "id": "1dc99744",
   "metadata": {},
   "outputs": [],
   "source": [
    "import os\n",
    "import glob\n",
    "import itertools\n",
    "import boto3\n",
    "\n",
    "CLIENT = boto3.client('s3')\n",
    "\n",
    "def upload(table, bucket, path):\n",
    "    assert os.path.isdir(table)\n",
    "    for item in itertools.chain(glob.glob(table + '/**'), glob.glob(table + '/.**')):\n",
    "        if not os.path.isfile(item):\n",
    "            upload(item, bucket, path + '/' + os.path.basename(item))\n",
    "        else:\n",
    "            CLIENT.upload_file(\n",
    "                item,\n",
    "                bucket,\n",
    "                os.path.join(path, os.path.basename(item))\n",
    "            )"
   ]
  },
  {
   "cell_type": "markdown",
   "id": "c2af9f98",
   "metadata": {},
   "source": [
    "# Setup Spark Session"
   ]
  },
  {
   "cell_type": "code",
   "execution_count": null,
   "id": "a2ed674a",
   "metadata": {},
   "outputs": [],
   "source": [
    "from pyspark.sql import SparkSession\n",
    "from delta import configure_spark_with_delta_pip\n",
    "\n",
    "builder = SparkSession.builder.appName('CreateDeltaTables') \\\n",
    "    .config(\n",
    "        'spark.jars.packages',\n",
    "        'io.delta:delta-core_2.12:2.2.0') \\\n",
    "    .config(\n",
    "        'spark.sql.extensions',\n",
    "        'io.delta.sql.DeltaSparkSessionExtension') \\\n",
    "    .config(\n",
    "        'spark.sql.catalog.spark_catalog',\n",
    "        'org.apache.spark.sql.delta.catalog.DeltaCatalog')\n",
    "\n",
    "spark = configure_spark_with_delta_pip(builder).getOrCreate()"
   ]
  },
  {
   "cell_type": "markdown",
   "id": "217914b2",
   "metadata": {},
   "source": [
    "# Load CSVs"
   ]
  },
  {
   "cell_type": "code",
   "execution_count": null,
   "id": "5a521968",
   "metadata": {},
   "outputs": [],
   "source": [
    "avocado = spark.read \\\n",
    "    .format('csv') \\\n",
    "    .option('header', 'true') \\\n",
    "    .option('inferSchema', 'true') \\\n",
    "    .load('../../data/avocado.csv')"
   ]
  },
  {
   "cell_type": "code",
   "execution_count": null,
   "id": "ecc6293e",
   "metadata": {},
   "outputs": [],
   "source": [
    "avocado.show(n=5, truncate=False, vertical=True)"
   ]
  },
  {
   "cell_type": "markdown",
   "id": "f345645e",
   "metadata": {},
   "source": [
    "# Create Versions"
   ]
  },
  {
   "cell_type": "code",
   "execution_count": null,
   "id": "32774336",
   "metadata": {},
   "outputs": [],
   "source": [
    "avocado_2015 = avocado.filter(avocado.year == '2015')\n",
    "avocado_2016 = avocado.filter(avocado.year == '2016')\n",
    "avocado_2017 = avocado.filter(avocado.year == '2017')\n",
    "avocado_2018 = avocado.filter(avocado.year == '2018')\n",
    "avocado_2015.show(n=1, truncate=False, vertical=True)\n",
    "avocado_2016.show(n=1, truncate=False, vertical=True)\n",
    "avocado_2017.show(n=1, truncate=False, vertical=True)\n",
    "avocado_2018.show(n=1, truncate=False, vertical=True)"
   ]
  },
  {
   "cell_type": "markdown",
   "id": "94e2a989",
   "metadata": {},
   "source": [
    "# Create Delta Tables"
   ]
  },
  {
   "cell_type": "code",
   "execution_count": null,
   "id": "53145d6c",
   "metadata": {},
   "outputs": [],
   "source": [
    "avocado_2015.write \\\n",
    "    .format('delta') \\\n",
    "    .save('../../data/avocado-table')\n",
    "avocado_2016.write \\\n",
    "    .mode('append') \\\n",
    "    .format('delta') \\\n",
    "    .save('../../data/avocado-table')\n",
    "avocado_2017.write \\\n",
    "    .mode('append') \\\n",
    "    .format('delta') \\\n",
    "    .save('../../data/avocado-table')\n",
    "avocado_2018.write \\\n",
    "    .mode('append') \\\n",
    "    .format('delta') \\\n",
    "    .save('../../data/avocado-table')"
   ]
  },
  {
   "cell_type": "markdown",
   "id": "157e1bdf",
   "metadata": {},
   "source": [
    "# Upload Tables to S3"
   ]
  },
  {
   "cell_type": "code",
   "execution_count": null,
   "id": "ab3d55ed",
   "metadata": {},
   "outputs": [],
   "source": [
    "upload('../../data/avocado-table/', 'kotosiro-sharing-example', 'avocado')"
   ]
  }
 ],
 "metadata": {
  "kernelspec": {
   "display_name": "Python 3 (ipykernel)",
   "language": "python",
   "name": "python3"
  },
  "language_info": {
   "codemirror_mode": {
    "name": "ipython",
    "version": 3
   },
   "file_extension": ".py",
   "mimetype": "text/x-python",
   "name": "python",
   "nbconvert_exporter": "python",
   "pygments_lexer": "ipython3",
   "version": "3.11.2"
  }
 },
 "nbformat": 4,
 "nbformat_minor": 5
}
