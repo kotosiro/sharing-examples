{
 "cells": [
  {
   "cell_type": "markdown",
   "id": "72b5f35d",
   "metadata": {},
   "source": [
    "### Data Skipping and Z-Ordering\n",
    " With the release of Data Skipping in Delta Lake 1.2.0, column-level statistics like min/max are now available. Statistics are saved in the Delta Lake transaction log (DeltaLog) every time an `add` action is performed corresponding to adding a new Parquet file.\n",
    " By leveraging min-max ranges, Delta Lake is able to skip the Parquet files that are out of the range of the querying field values (Data Skipping). In order to make it effective, data can be clustered by Z-Order columns so that min-max ranges are narrow and, ideally, non-overlapping."
   ]
  },
  {
   "cell_type": "markdown",
   "id": "3b05a9a9",
   "metadata": {},
   "source": [
    "### Utility Functions"
   ]
  },
  {
   "cell_type": "code",
   "execution_count": null,
   "id": "7dddfdb5",
   "metadata": {},
   "outputs": [],
   "source": [
    "import pandas as pd\n",
    "\n",
    "\n",
    "def is_overlapped(a, b):\n",
    "    return a[0] <= b[0] <= a[1] or b[0] <= a[0] <= b[1]\n",
    "\n",
    "\n",
    "def get_stats(dt):\n",
    "    lhs = dt.get_add_actions().to_pandas()[['min']].values.tolist()\n",
    "    lhs = [x for r in lhs for x in r]\n",
    "    lhs = pd.DataFrame.from_dict(lhs)\n",
    "    rhs = dt.get_add_actions().to_pandas()[['max']].values.tolist()\n",
    "    rhs = [x for r in rhs for x in r]\n",
    "    rhs = pd.DataFrame.from_dict(rhs)\n",
    "    return lhs, rhs\n",
    "\n",
    "\n",
    "def get_num_overlapped(dt, intervals):\n",
    "    ret, (lhs, rhs) = 0, get_stats(dt)\n",
    "    for (_, min), (_, max) in zip(lhs.iterrows(), rhs.iterrows()):\n",
    "        if all(map(lambda i: is_overlapped((i[1], i[2]), (min[i[0]], max[i[0]])), intervals)):\n",
    "            ret += 1\n",
    "    return ret"
   ]
  },
  {
   "cell_type": "markdown",
   "id": "cd168839",
   "metadata": {},
   "source": [
    "### Delta Table Structure\n",
    "\n",
    " You are wroking at a cyber security company. Your team collects traffic data which is created by an open source\n",
    "network traffic analyzer. The schema is straightforward:"
   ]
  },
  {
   "cell_type": "code",
   "execution_count": null,
   "id": "ec1ecdc8",
   "metadata": {},
   "outputs": [],
   "source": [
    "from pyspark.sql import SparkSession\n",
    "from delta import configure_spark_with_delta_pip\n",
    "\n",
    "\n",
    "builder = SparkSession.builder.appName('CreateDeltaTables') \\\n",
    "    .config(\n",
    "        'spark.jars.packages',\n",
    "        'io.delta:delta-core_2.12:2.2.0') \\\n",
    "    .config(\n",
    "        'spark.sql.extensions',\n",
    "        'io.delta.sql.DeltaSparkSessionExtension') \\\n",
    "    .config(\n",
    "        'spark.sql.catalog.spark_catalog',\n",
    "        'org.apache.spark.sql.delta.catalog.DeltaCatalog')\n",
    "\n",
    "spark = configure_spark_with_delta_pip(builder).getOrCreate()\n",
    "\n",
    "security = spark.read \\\n",
    "    .format('csv') \\\n",
    "    .option('header', 'true') \\\n",
    "    .option('inferSchema', 'true') \\\n",
    "    .load('../../data/security.csv')\n",
    "security.show(n=5, truncate=False)"
   ]
  },
  {
   "cell_type": "markdown",
   "id": "958d1d73",
   "metadata": {},
   "source": [
    "The structure of the table is as follows:"
   ]
  },
  {
   "cell_type": "code",
   "execution_count": null,
   "id": "c45c604d",
   "metadata": {},
   "outputs": [],
   "source": [
    "%%bash\n",
    "\n",
    "tree -a ../../data/security-table"
   ]
  },
  {
   "cell_type": "markdown",
   "id": "7e8f830d",
   "metadata": {},
   "source": [
    "### Filter Clauses\n",
    "\n",
    " Suppose we are only interested in the traffic which satisfies the following conditions:\n",
    "\n",
    " - condition 1: 128.0.0.0 <= `src_ip` <= 191.255.255.255\n",
    " - condition 2: 1024 <= `src_port` <= 65535\n",
    " - condition 3: 128.0.0.0 <= `dst_ip` <= 191.255.255.255 and 1024 <= `dst_port` <= 65535"
   ]
  },
  {
   "cell_type": "markdown",
   "id": "ff0b3961",
   "metadata": {},
   "source": [
    "### Evaluation\n",
    "\n",
    " Let us define Skipping Effecticeness as follows:\n",
    "\n",
    "`Skipping Effectiveness := # of filtered Parquet files / total # of Parquet files`"
   ]
  },
  {
   "cell_type": "markdown",
   "id": "66af6629",
   "metadata": {},
   "source": [
    "### Skipping Effectiveness\n",
    "\n",
    " Now, let's inspect the skipping effectiveness. Your end goal is likely to minimize the total amount of time spent on running these queries and the egress cost, but, for illustration purposes, let’s instead define our cost function as the total number of records scanned:"
   ]
  },
  {
   "cell_type": "code",
   "execution_count": null,
   "id": "2a84e647",
   "metadata": {},
   "outputs": [],
   "source": [
    "from deltalake import DeltaTable\n",
    "\n",
    "dt = DeltaTable('../../data/security-table')\n",
    "cond_1 = get_num_overlapped(\n",
    "    dt,\n",
    "    [['src_ip', '128.0.0.0', '191.255.255.255']]\n",
    ")\n",
    "cond_2 = get_num_overlapped(\n",
    "    dt,\n",
    "    [['src_port', 1024, 65535]]\n",
    ")\n",
    "cond_3 = get_num_overlapped(\n",
    "    dt,\n",
    "    [['dst_ip', '128.0.0.0', '191.255.255.255'], ['dst_port', 1024, 65535]]\n",
    ")\n",
    "\n",
    "print('128.0.0.0 <= src_ip <= 191.255.255.255: ', 1 - cond_1 / 10)\n",
    "print('1024 <= src_port <= 65535: ', 1 - cond_2 / 10)\n",
    "print('128.0.0.0 <= dst_ip <= 191.255.255.255 and 1024 <= dst_port <= 65535: ', 1 - cond_3 / 10)"
   ]
  },
  {
   "cell_type": "code",
   "execution_count": null,
   "id": "364b3cd3",
   "metadata": {},
   "outputs": [],
   "source": [
    "import matplotlib.pyplot as plt\n",
    "import numpy as np\n",
    "\n",
    "left = np.array([1, 2, 3])\n",
    "height = np.array([0.0, 0.0, 0.0])\n",
    "label = ['#1', '#2', '#3']\n",
    "\n",
    "plt.bar(left, height, tick_label=label, align='center')\n",
    "plt.title('Skipping Effectiveness / No Optimization')\n",
    "plt.xlabel('condition')\n",
    "plt.ylabel('skipping effectiveness')\n",
    "plt.ylim([0.0, 1.0])"
   ]
  },
  {
   "cell_type": "markdown",
   "id": "e8f5b643",
   "metadata": {},
   "source": [
    "### Partition by Range (Explicit Sorting)\n",
    " \n",
    " As our data is randomly generated and so there are no correlations. So let’s try explicitly sorting data before writing it."
   ]
  },
  {
   "cell_type": "code",
   "execution_count": null,
   "id": "a389edff",
   "metadata": {},
   "outputs": [],
   "source": [
    "df = spark.read \\\n",
    "    .format('delta') \\\n",
    "    .load('../../data/security-table')\n",
    "df.repartitionByRange(10, 'src_ip', 'src_port', 'dst_ip') \\\n",
    "    .write \\\n",
    "    .mode('overwrite') \\\n",
    "    .format('delta') \\\n",
    "    .save('../../data/security-table')"
   ]
  },
  {
   "cell_type": "markdown",
   "id": "e1222657",
   "metadata": {},
   "source": [
    "The structure of the table is as follows:"
   ]
  },
  {
   "cell_type": "code",
   "execution_count": null,
   "id": "44e940f8",
   "metadata": {},
   "outputs": [],
   "source": [
    "%%bash\n",
    "\n",
    "tree -a ../../data/security-table-part-by-range"
   ]
  },
  {
   "cell_type": "markdown",
   "id": "94233446",
   "metadata": {},
   "source": [
    "### Skipping Effectiveness\n",
    "\n",
    " Now, let's inspect the skipping effectiveness. Your end goal is likely to minimize the total amount of time spent on running these queries and the egress cost, but, for illustration purposes, let’s instead define our cost function as the total number of records scanned:"
   ]
  },
  {
   "cell_type": "code",
   "execution_count": null,
   "id": "f267b6bb",
   "metadata": {},
   "outputs": [],
   "source": [
    "from deltalake import DeltaTable\n",
    "\n",
    "dt = DeltaTable('../../data/security-table')\n",
    "cond_1 = get_num_overlapped(\n",
    "    dt,\n",
    "    [['src_ip', '128.0.0.0', '191.255.255.255']]\n",
    ")\n",
    "cond_2 = get_num_overlapped(\n",
    "    dt,\n",
    "    [['src_port', 1024, 65535]]\n",
    ")\n",
    "cond_3 = get_num_overlapped(\n",
    "    dt,\n",
    "    [['dst_ip', '128.0.0.0', '191.255.255.255'], ['dst_port', 1024, 65535]]\n",
    ")\n",
    "\n",
    "print('128.0.0.0 <= src_ip <= 191.255.255.255: ', 1 - cond_1 / 10)\n",
    "print('1024 <= src_port <= 65535: ', 1 - cond_2 / 10)\n",
    "print('128.0.0.0 <= dst_ip <= 191.255.255.255 and 1024 <= dst_port <= 65535: ', 1 - cond_3 / 10)"
   ]
  },
  {
   "cell_type": "code",
   "execution_count": null,
   "id": "897539e9",
   "metadata": {},
   "outputs": [],
   "source": [
    "import matplotlib.pyplot as plt\n",
    "import numpy as np\n",
    "\n",
    "left = np.array([1, 2, 3])\n",
    "height = np.array([0.6, 0.0, 0.0])\n",
    "label = ['#1', '#2', '#3']\n",
    "\n",
    "plt.bar(left, height, tick_label=label, align='center')\n",
    "plt.title('Skipping Effectiveness / Explicit Sorting')\n",
    "plt.xlabel('condition')\n",
    "plt.ylabel('skipping effectiveness')\n",
    "plt.ylim([0.0, 1.0])"
   ]
  },
  {
   "cell_type": "markdown",
   "id": "745b19f4",
   "metadata": {},
   "source": [
    "### Z-Order Clustering\n",
    " \n",
    " Z-ordering is a technique to colocate related information in the same set of files. This optimization dramatically reduces the amount of data that Delta Table needs to read. "
   ]
  },
  {
   "cell_type": "code",
   "execution_count": null,
   "id": "32c44d05",
   "metadata": {},
   "outputs": [],
   "source": [
    "import delta\n",
    "\n",
    "deltaTable = delta.DeltaTable.forPath(spark, '../../data/security-table')\n",
    "spark.conf.set('spark.databricks.delta.optimize.maxFileSize', 1024*50)\n",
    "deltaTable.optimize().executeZOrderBy('src_ip', 'src_port', 'dst_ip', 'dst_port')"
   ]
  },
  {
   "cell_type": "markdown",
   "id": "3ea66a53",
   "metadata": {},
   "source": [
    "The structure of the table is as follows:"
   ]
  },
  {
   "cell_type": "code",
   "execution_count": null,
   "id": "f396698a",
   "metadata": {},
   "outputs": [],
   "source": [
    "%%bash\n",
    "\n",
    "tree -a ../../data/security-table"
   ]
  },
  {
   "cell_type": "code",
   "execution_count": null,
   "id": "65bb386a",
   "metadata": {},
   "outputs": [],
   "source": [
    "from deltalake import DeltaTable\n",
    "\n",
    "dt = DeltaTable('../../data/security-table')\n",
    "cond_1 = get_num_overlapped(\n",
    "    dt,\n",
    "    [['src_ip', '128.0.0.0', '191.255.255.255']]\n",
    ")\n",
    "cond_2 = get_num_overlapped(\n",
    "    dt,\n",
    "    [['src_port', 1024, 65535]]\n",
    ")\n",
    "cond_3 = get_num_overlapped(\n",
    "    dt,\n",
    "    [['dst_ip', '128.0.0.0', '191.255.255.255'], ['dst_port', 1024, 65535]]\n",
    ")\n",
    "\n",
    "print('128.0.0.0 <= src_ip <= 191.255.255.255: ', 1 - cond_1 / 10)\n",
    "print('1024 <= src_port <= 65535: ', 1 - cond_2 / 10)\n",
    "print('128.0.0.0 <= dst_ip <= 191.255.255.255 and 1024 <= dst_port <= 65535: ', 1 - cond_3 / 10)"
   ]
  },
  {
   "cell_type": "code",
   "execution_count": null,
   "id": "c17adadc",
   "metadata": {},
   "outputs": [],
   "source": [
    "import matplotlib.pyplot as plt\n",
    "import numpy as np\n",
    "\n",
    "left = np.array([1, 2, 3])\n",
    "height = np.array([0.6, 0.4, 0.4])\n",
    "label = ['#1', '#2', '#3']\n",
    "\n",
    "plt.bar(left, height, tick_label=label, align='center')\n",
    "plt.title('Skipping Effectiveness / Z-Order Clustering')\n",
    "plt.xlabel('condition')\n",
    "plt.ylabel('skipping effectiveness')\n",
    "plt.ylim([0.0, 1.0])"
   ]
  },
  {
   "cell_type": "code",
   "execution_count": null,
   "id": "86815096",
   "metadata": {},
   "outputs": [],
   "source": [
    "import matplotlib.pyplot as plt\n",
    "import numpy as np\n",
    "\n",
    "left = np.array([1, 2, 3])\n",
    "height1 = np.array([0.0, 0.2, 0.2])\n",
    "height2 = np.array([0.0, 0.0, 0.13])\n",
    "height3 = np.array([0.0, 0.0, 0.13])\n",
    "label = ['No Optimization', 'Explicit Sorting', 'Z-Order Clustering']\n",
    "\n",
    "plt.bar(left, height1, tick_label=label, align=\"center\")\n",
    "plt.bar(left, height2, bottom=height1)\n",
    "plt.bar(left, height3, bottom=height1 + height2)\n",
    "plt.plot(left, [0.0, 0.2, 0.46], color='red')\n",
    "plt.scatter(left, [0.0, 0.2, 0.46], color='red')\n",
    "plt.title(\"Skipping Effectiveness\")\n",
    "plt.ylabel(\"skipping effectiveness\")\n",
    "plt.ylim([0.0, 1.0])"
   ]
  },
  {
   "cell_type": "code",
   "execution_count": null,
   "id": "f8eaa747",
   "metadata": {},
   "outputs": [],
   "source": []
  }
 ],
 "metadata": {
  "kernelspec": {
   "display_name": "Python 3 (ipykernel)",
   "language": "python",
   "name": "python3"
  },
  "language_info": {
   "codemirror_mode": {
    "name": "ipython",
    "version": 3
   },
   "file_extension": ".py",
   "mimetype": "text/x-python",
   "name": "python",
   "nbconvert_exporter": "python",
   "pygments_lexer": "ipython3",
   "version": "3.11.2"
  }
 },
 "nbformat": 4,
 "nbformat_minor": 5
}
