{
 "cells": [
  {
   "cell_type": "markdown",
   "id": "72b5f35d",
   "metadata": {},
   "source": [
    "### Data Skipping and Z-Ordering\n",
    " With the release of Data Skipping in Delta Lake 1.2.0, column-level statistics like min/max are now available. Statistics are saved in the Delta Lake transaction log (DeltaLog) every time an `add` action is performed corresponding to adding a new Parquet file.\n",
    " By leveraging min-max ranges, Delta Lake is able to skip the Parquet files that are out of the range of the querying field values (Data Skipping). In order to make it effective, data can be clustered by Z-Order columns so that min-max ranges are narrow and, ideally, non-overlapping."
   ]
  },
  {
   "cell_type": "markdown",
   "id": "cd168839",
   "metadata": {},
   "source": [
    "### Delta Table Structure\n",
    "\n",
    " You are wroking at a cyber security company. Your team collects traffic data which is created by an open source\n",
    "network traffic analyzer. The schema is straightforward:"
   ]
  },
  {
   "cell_type": "code",
   "execution_count": 1,
   "id": "ec1ecdc8",
   "metadata": {},
   "outputs": [
    {
     "name": "stdout",
     "output_type": "stream",
     "text": [
      "23/04/29 01:28:06 WARN Utils: Your hostname, aix.local resolves to a loopback address: 127.0.0.1; using 192.168.2.100 instead (on interface en0)\n",
      "23/04/29 01:28:06 WARN Utils: Set SPARK_LOCAL_IP if you need to bind to another address\n",
      ":: loading settings :: url = jar:file:/Users/shin/.local/share/virtualenvs/sharing-examples-hEeTnWv9/lib/python3.11/site-packages/pyspark/jars/ivy-2.5.1.jar!/org/apache/ivy/core/settings/ivysettings.xml\n"
     ]
    },
    {
     "name": "stderr",
     "output_type": "stream",
     "text": [
      "Ivy Default Cache set to: /Users/shin/.ivy2/cache\n",
      "The jars for the packages stored in: /Users/shin/.ivy2/jars\n",
      "io.delta#delta-core_2.12 added as a dependency\n",
      ":: resolving dependencies :: org.apache.spark#spark-submit-parent-06867846-b7ce-4324-9e0a-3e22223b7e12;1.0\n",
      "\tconfs: [default]\n",
      "\tfound io.delta#delta-core_2.12;2.2.0 in central\n",
      "\tfound io.delta#delta-storage;2.2.0 in central\n",
      "\tfound org.antlr#antlr4-runtime;4.8 in central\n",
      ":: resolution report :: resolve 253ms :: artifacts dl 15ms\n",
      "\t:: modules in use:\n",
      "\tio.delta#delta-core_2.12;2.2.0 from central in [default]\n",
      "\tio.delta#delta-storage;2.2.0 from central in [default]\n",
      "\torg.antlr#antlr4-runtime;4.8 from central in [default]\n",
      "\t---------------------------------------------------------------------\n",
      "\t|                  |            modules            ||   artifacts   |\n",
      "\t|       conf       | number| search|dwnlded|evicted|| number|dwnlded|\n",
      "\t---------------------------------------------------------------------\n",
      "\t|      default     |   3   |   0   |   0   |   0   ||   3   |   0   |\n",
      "\t---------------------------------------------------------------------\n",
      ":: retrieving :: org.apache.spark#spark-submit-parent-06867846-b7ce-4324-9e0a-3e22223b7e12\n",
      "\tconfs: [default]\n",
      "\t0 artifacts copied, 3 already retrieved (0kB/9ms)\n"
     ]
    },
    {
     "name": "stdout",
     "output_type": "stream",
     "text": [
      "23/04/29 01:28:08 WARN NativeCodeLoader: Unable to load native-hadoop library for your platform... using builtin-java classes where applicable\n"
     ]
    },
    {
     "name": "stderr",
     "output_type": "stream",
     "text": [
      "Setting default log level to \"WARN\".\n",
      "To adjust logging level use sc.setLogLevel(newLevel). For SparkR, use setLogLevel(newLevel).\n"
     ]
    },
    {
     "name": "stdout",
     "output_type": "stream",
     "text": [
      "+---------------+--------+--------------+--------+\n",
      "|src_ip         |src_port|dst_ip        |dst_port|\n",
      "+---------------+--------+--------------+--------+\n",
      "|99.209.152.133 |55025   |85.150.136.248|61511   |\n",
      "|159.155.100.124|26766   |62.103.1.70   |55074   |\n",
      "|235.89.179.185 |3232    |0.212.11.209  |65246   |\n",
      "|33.182.243.225 |21905   |54.115.186.133|22622   |\n",
      "|54.36.25.7     |23061   |44.97.51.98   |46932   |\n",
      "+---------------+--------+--------------+--------+\n",
      "only showing top 5 rows\n",
      "\n"
     ]
    }
   ],
   "source": [
    "from pyspark.sql import SparkSession\n",
    "from delta import configure_spark_with_delta_pip\n",
    "\n",
    "\n",
    "builder = SparkSession.builder.appName('CreateDeltaTables') \\\n",
    "    .config(\n",
    "        'spark.jars.packages',\n",
    "        'io.delta:delta-core_2.12:2.2.0') \\\n",
    "    .config(\n",
    "        'spark.sql.extensions',\n",
    "        'io.delta.sql.DeltaSparkSessionExtension') \\\n",
    "    .config(\n",
    "        'spark.sql.catalog.spark_catalog',\n",
    "        'org.apache.spark.sql.delta.catalog.DeltaCatalog')\n",
    "\n",
    "spark = configure_spark_with_delta_pip(builder).getOrCreate()\n",
    "\n",
    "security = spark.read \\\n",
    "    .format('csv') \\\n",
    "    .option('header', 'true') \\\n",
    "    .option('inferSchema', 'true') \\\n",
    "    .load('../../data/security.csv')\n",
    "security.show(n=5, truncate=False)"
   ]
  },
  {
   "cell_type": "markdown",
   "id": "958d1d73",
   "metadata": {},
   "source": [
    "The structure of the table is as follows:"
   ]
  },
  {
   "cell_type": "code",
   "execution_count": 2,
   "id": "c45c604d",
   "metadata": {},
   "outputs": [
    {
     "name": "stdout",
     "output_type": "stream",
     "text": [
      "\u001b[01;34m../../data/security-table\u001b[0m\n",
      "├── \u001b[00m.part-00000-0dd07884-23fd-4258-9dbe-4dc1fbbd4db0-c000.snappy.parquet.crc\u001b[0m\n",
      "├── \u001b[00m.part-00000-3c05d64a-5704-4a88-957c-bf7fcf9ffc99-c000.snappy.parquet.crc\u001b[0m\n",
      "├── \u001b[00m.part-00000-52260cd2-35e6-4696-bca5-c9dcd189d360-c000.snappy.parquet.crc\u001b[0m\n",
      "├── \u001b[00m.part-00000-6523dea4-6fcb-432b-af00-59a82e6f5c6c-c000.snappy.parquet.crc\u001b[0m\n",
      "├── \u001b[00m.part-00000-678af661-e81d-42c1-b065-d034c529c113-c000.snappy.parquet.crc\u001b[0m\n",
      "├── \u001b[00m.part-00000-75a525fb-e06d-4ff4-8dfb-95be7ceee9e1-c000.snappy.parquet.crc\u001b[0m\n",
      "├── \u001b[00m.part-00000-7c3ad93f-81b2-4e9b-8aa2-e2ad7c5a10b4-c000.snappy.parquet.crc\u001b[0m\n",
      "├── \u001b[00m.part-00000-7df7863c-c3a3-484e-bd50-7d3d380b1e43-c000.snappy.parquet.crc\u001b[0m\n",
      "├── \u001b[00m.part-00000-faf12ec5-a21c-4cf6-9867-614b6c9a814d-c000.snappy.parquet.crc\u001b[0m\n",
      "├── \u001b[00m.part-00000-fe28cdca-f5d8-4e75-8189-5aeeece80b84-c000.snappy.parquet.crc\u001b[0m\n",
      "├── \u001b[01;34m_delta_log\u001b[0m\n",
      "│   ├── \u001b[00m.00000000000000000000.json.crc\u001b[0m\n",
      "│   ├── \u001b[00m.00000000000000000001.json.crc\u001b[0m\n",
      "│   ├── \u001b[00m.00000000000000000002.json.crc\u001b[0m\n",
      "│   ├── \u001b[00m.00000000000000000003.json.crc\u001b[0m\n",
      "│   ├── \u001b[00m.00000000000000000004.json.crc\u001b[0m\n",
      "│   ├── \u001b[00m.00000000000000000005.json.crc\u001b[0m\n",
      "│   ├── \u001b[00m.00000000000000000006.json.crc\u001b[0m\n",
      "│   ├── \u001b[00m.00000000000000000007.json.crc\u001b[0m\n",
      "│   ├── \u001b[00m.00000000000000000008.json.crc\u001b[0m\n",
      "│   ├── \u001b[00m.00000000000000000009.json.crc\u001b[0m\n",
      "│   ├── \u001b[00m00000000000000000000.json\u001b[0m\n",
      "│   ├── \u001b[00m00000000000000000001.json\u001b[0m\n",
      "│   ├── \u001b[00m00000000000000000002.json\u001b[0m\n",
      "│   ├── \u001b[00m00000000000000000003.json\u001b[0m\n",
      "│   ├── \u001b[00m00000000000000000004.json\u001b[0m\n",
      "│   ├── \u001b[00m00000000000000000005.json\u001b[0m\n",
      "│   ├── \u001b[00m00000000000000000006.json\u001b[0m\n",
      "│   ├── \u001b[00m00000000000000000007.json\u001b[0m\n",
      "│   ├── \u001b[00m00000000000000000008.json\u001b[0m\n",
      "│   └── \u001b[00m00000000000000000009.json\u001b[0m\n",
      "├── \u001b[00mpart-00000-0dd07884-23fd-4258-9dbe-4dc1fbbd4db0-c000.snappy.parquet\u001b[0m\n",
      "├── \u001b[00mpart-00000-3c05d64a-5704-4a88-957c-bf7fcf9ffc99-c000.snappy.parquet\u001b[0m\n",
      "├── \u001b[00mpart-00000-52260cd2-35e6-4696-bca5-c9dcd189d360-c000.snappy.parquet\u001b[0m\n",
      "├── \u001b[00mpart-00000-6523dea4-6fcb-432b-af00-59a82e6f5c6c-c000.snappy.parquet\u001b[0m\n",
      "├── \u001b[00mpart-00000-678af661-e81d-42c1-b065-d034c529c113-c000.snappy.parquet\u001b[0m\n",
      "├── \u001b[00mpart-00000-75a525fb-e06d-4ff4-8dfb-95be7ceee9e1-c000.snappy.parquet\u001b[0m\n",
      "├── \u001b[00mpart-00000-7c3ad93f-81b2-4e9b-8aa2-e2ad7c5a10b4-c000.snappy.parquet\u001b[0m\n",
      "├── \u001b[00mpart-00000-7df7863c-c3a3-484e-bd50-7d3d380b1e43-c000.snappy.parquet\u001b[0m\n",
      "├── \u001b[00mpart-00000-faf12ec5-a21c-4cf6-9867-614b6c9a814d-c000.snappy.parquet\u001b[0m\n",
      "└── \u001b[00mpart-00000-fe28cdca-f5d8-4e75-8189-5aeeece80b84-c000.snappy.parquet\u001b[0m\n",
      "\n",
      "2 directories, 40 files\n"
     ]
    }
   ],
   "source": [
    "%%bash\n",
    "\n",
    "tree -a ../../data/security-table"
   ]
  },
  {
   "cell_type": "markdown",
   "id": "7e8f830d",
   "metadata": {},
   "source": [
    "### Filter Clauses\n",
    "\n",
    " Suppose we are only interested in the traffic which satisfies the following conditions:\n",
    "\n",
    " - 128.0.0.0 <= `src_ip` <= 191.255.255.255\n",
    " - 1024 <= `src_port` <= 65535\n",
    " - 128.0.0.0 <= `dst_ip` <= 191.255.255.255 and 1024 <= `dst_port` <= 65535"
   ]
  },
  {
   "cell_type": "markdown",
   "id": "e8f5b643",
   "metadata": {},
   "source": [
    "### Partition by Range (Explicit Sorting)\n",
    " \n",
    " As our data is randomly generated and so there are no correlations. So let’s try explicitly sorting data before writing it."
   ]
  },
  {
   "cell_type": "code",
   "execution_count": 4,
   "id": "a389edff",
   "metadata": {},
   "outputs": [
    {
     "name": "stdout",
     "output_type": "stream",
     "text": [
      "23/04/29 01:28:47 WARN package: Truncated the string representation of a plan since it was too large. This behavior can be adjusted by setting 'spark.sql.debug.maxToStringFields'.\n"
     ]
    },
    {
     "name": "stderr",
     "output_type": "stream",
     "text": [
      "                                                                                \r"
     ]
    }
   ],
   "source": [
    "df = spark.read \\\n",
    "    .format('delta') \\\n",
    "    .load('../../data/security-table')\n",
    "#df.sort('src_ip', 'src_port', 'dst_ip', 'dst_port') \\\n",
    "#    .repartition(10) \\\n",
    "df.repartitionByRange(10, 'src_ip', 'src_port', 'dst_ip') \\\n",
    "    .write \\\n",
    "    .mode('overwrite') \\\n",
    "    .format('delta') \\\n",
    "    .save('../../data/security-table-part-by-range')"
   ]
  },
  {
   "cell_type": "markdown",
   "id": "e1222657",
   "metadata": {},
   "source": [
    "The structure of the table is as follows:"
   ]
  },
  {
   "cell_type": "code",
   "execution_count": 5,
   "id": "44e940f8",
   "metadata": {},
   "outputs": [
    {
     "name": "stdout",
     "output_type": "stream",
     "text": [
      "\u001b[01;34m../../data/security-table-part-by-range\u001b[0m\n",
      "├── \u001b[00m.part-00000-3cd43b0a-8956-42f9-9123-00163940975d-c000.snappy.parquet.crc\u001b[0m\n",
      "├── \u001b[00m.part-00000-9edff352-1332-43ac-8c90-110d2386fbe3-c000.snappy.parquet.crc\u001b[0m\n",
      "├── \u001b[00m.part-00001-06a98e77-be71-4f87-b7dd-b7632751d433-c000.snappy.parquet.crc\u001b[0m\n",
      "├── \u001b[00m.part-00001-1f022d03-8826-4c34-a556-0add96827a04-c000.snappy.parquet.crc\u001b[0m\n",
      "├── \u001b[00m.part-00002-15d9b2e3-c7a9-4f95-8c35-9b2eb073fc1d-c000.snappy.parquet.crc\u001b[0m\n",
      "├── \u001b[00m.part-00002-29a58daa-6f11-4c5c-8411-166fb4915c7e-c000.snappy.parquet.crc\u001b[0m\n",
      "├── \u001b[00m.part-00003-4dc0414e-ea7d-4095-9d44-a4ee56384a55-c000.snappy.parquet.crc\u001b[0m\n",
      "├── \u001b[00m.part-00003-f9f40697-734a-4781-b1a2-ae69a3a55664-c000.snappy.parquet.crc\u001b[0m\n",
      "├── \u001b[00m.part-00004-00aff318-cf29-4f80-b34c-bc519268f8d4-c000.snappy.parquet.crc\u001b[0m\n",
      "├── \u001b[00m.part-00004-f20d075d-f39a-475d-96df-343e88b625c8-c000.snappy.parquet.crc\u001b[0m\n",
      "├── \u001b[00m.part-00005-0267e0b3-5ed8-4bcc-a513-98b9ffa00003-c000.snappy.parquet.crc\u001b[0m\n",
      "├── \u001b[00m.part-00005-5d3e84e7-267a-4f9f-8e8e-131190e917de-c000.snappy.parquet.crc\u001b[0m\n",
      "├── \u001b[00m.part-00006-ddc5df5a-2f32-49c5-bb0d-1f029e0c3ef1-c000.snappy.parquet.crc\u001b[0m\n",
      "├── \u001b[00m.part-00006-fbd8b5ca-6e84-4550-b135-5aa7f86d8e11-c000.snappy.parquet.crc\u001b[0m\n",
      "├── \u001b[00m.part-00007-05a8819e-df41-4713-af92-7f02f89b0f2d-c000.snappy.parquet.crc\u001b[0m\n",
      "├── \u001b[00m.part-00007-936e5a98-74bd-4e3b-84e4-aa2a8aed3062-c000.snappy.parquet.crc\u001b[0m\n",
      "├── \u001b[00m.part-00008-60f3d779-4a55-4211-8c10-11de01b9f8e4-c000.snappy.parquet.crc\u001b[0m\n",
      "├── \u001b[00m.part-00008-980968d3-a62e-409d-9206-c3ad419e063e-c000.snappy.parquet.crc\u001b[0m\n",
      "├── \u001b[00m.part-00009-0175b708-ebd7-486e-a54f-d9064cad2761-c000.snappy.parquet.crc\u001b[0m\n",
      "├── \u001b[00m.part-00009-706e9c43-a62f-4fe4-8694-5b86e6cf0e02-c000.snappy.parquet.crc\u001b[0m\n",
      "├── \u001b[01;34m_delta_log\u001b[0m\n",
      "│   ├── \u001b[00m.00000000000000000000.json.crc\u001b[0m\n",
      "│   ├── \u001b[00m.00000000000000000001.json.crc\u001b[0m\n",
      "│   ├── \u001b[00m00000000000000000000.json\u001b[0m\n",
      "│   └── \u001b[00m00000000000000000001.json\u001b[0m\n",
      "├── \u001b[00mpart-00000-3cd43b0a-8956-42f9-9123-00163940975d-c000.snappy.parquet\u001b[0m\n",
      "├── \u001b[00mpart-00000-9edff352-1332-43ac-8c90-110d2386fbe3-c000.snappy.parquet\u001b[0m\n",
      "├── \u001b[00mpart-00001-06a98e77-be71-4f87-b7dd-b7632751d433-c000.snappy.parquet\u001b[0m\n",
      "├── \u001b[00mpart-00001-1f022d03-8826-4c34-a556-0add96827a04-c000.snappy.parquet\u001b[0m\n",
      "├── \u001b[00mpart-00002-15d9b2e3-c7a9-4f95-8c35-9b2eb073fc1d-c000.snappy.parquet\u001b[0m\n",
      "├── \u001b[00mpart-00002-29a58daa-6f11-4c5c-8411-166fb4915c7e-c000.snappy.parquet\u001b[0m\n",
      "├── \u001b[00mpart-00003-4dc0414e-ea7d-4095-9d44-a4ee56384a55-c000.snappy.parquet\u001b[0m\n",
      "├── \u001b[00mpart-00003-f9f40697-734a-4781-b1a2-ae69a3a55664-c000.snappy.parquet\u001b[0m\n",
      "├── \u001b[00mpart-00004-00aff318-cf29-4f80-b34c-bc519268f8d4-c000.snappy.parquet\u001b[0m\n",
      "├── \u001b[00mpart-00004-f20d075d-f39a-475d-96df-343e88b625c8-c000.snappy.parquet\u001b[0m\n",
      "├── \u001b[00mpart-00005-0267e0b3-5ed8-4bcc-a513-98b9ffa00003-c000.snappy.parquet\u001b[0m\n",
      "├── \u001b[00mpart-00005-5d3e84e7-267a-4f9f-8e8e-131190e917de-c000.snappy.parquet\u001b[0m\n",
      "├── \u001b[00mpart-00006-ddc5df5a-2f32-49c5-bb0d-1f029e0c3ef1-c000.snappy.parquet\u001b[0m\n",
      "├── \u001b[00mpart-00006-fbd8b5ca-6e84-4550-b135-5aa7f86d8e11-c000.snappy.parquet\u001b[0m\n",
      "├── \u001b[00mpart-00007-05a8819e-df41-4713-af92-7f02f89b0f2d-c000.snappy.parquet\u001b[0m\n",
      "├── \u001b[00mpart-00007-936e5a98-74bd-4e3b-84e4-aa2a8aed3062-c000.snappy.parquet\u001b[0m\n",
      "├── \u001b[00mpart-00008-60f3d779-4a55-4211-8c10-11de01b9f8e4-c000.snappy.parquet\u001b[0m\n",
      "├── \u001b[00mpart-00008-980968d3-a62e-409d-9206-c3ad419e063e-c000.snappy.parquet\u001b[0m\n",
      "├── \u001b[00mpart-00009-0175b708-ebd7-486e-a54f-d9064cad2761-c000.snappy.parquet\u001b[0m\n",
      "└── \u001b[00mpart-00009-706e9c43-a62f-4fe4-8694-5b86e6cf0e02-c000.snappy.parquet\u001b[0m\n",
      "\n",
      "2 directories, 44 files\n"
     ]
    }
   ],
   "source": [
    "%%bash\n",
    "\n",
    "tree -a ../../data/security-table-part-by-range"
   ]
  },
  {
   "cell_type": "markdown",
   "id": "94233446",
   "metadata": {},
   "source": [
    "### Skipping Effectiveness\n",
    "\n",
    " Now, let's inspect the skipping effectiveness. Your end goal is likely to minimize the total amount of time spent on running these queries and the egress cost, but, for illustration purposes, let’s instead define our cost function as the total number of records scanned:"
   ]
  },
  {
   "cell_type": "code",
   "execution_count": 6,
   "id": "f267b6bb",
   "metadata": {},
   "outputs": [
    {
     "data": {
      "text/html": [
       "<div>\n",
       "<style scoped>\n",
       "    .dataframe tbody tr th:only-of-type {\n",
       "        vertical-align: middle;\n",
       "    }\n",
       "\n",
       "    .dataframe tbody tr th {\n",
       "        vertical-align: top;\n",
       "    }\n",
       "\n",
       "    .dataframe thead th {\n",
       "        text-align: right;\n",
       "    }\n",
       "</style>\n",
       "<table border=\"1\" class=\"dataframe\">\n",
       "  <thead>\n",
       "    <tr style=\"text-align: right;\">\n",
       "      <th></th>\n",
       "      <th>min</th>\n",
       "      <th>max</th>\n",
       "    </tr>\n",
       "  </thead>\n",
       "  <tbody>\n",
       "    <tr>\n",
       "      <th>0</th>\n",
       "      <td>{'src_ip': '0.112.77.223', 'src_port': 23, 'ds...</td>\n",
       "      <td>{'src_ip': '123.197.48.105', 'src_port': 65520...</td>\n",
       "    </tr>\n",
       "    <tr>\n",
       "      <th>1</th>\n",
       "      <td>{'src_ip': '123.203.100.246', 'src_port': 78, ...</td>\n",
       "      <td>{'src_ip': '143.77.124.105', 'src_port': 65376...</td>\n",
       "    </tr>\n",
       "    <tr>\n",
       "      <th>2</th>\n",
       "      <td>{'src_ip': '143.85.134.171', 'src_port': 74, '...</td>\n",
       "      <td>{'src_ip': '167.95.74.29', 'src_port': 65530, ...</td>\n",
       "    </tr>\n",
       "    <tr>\n",
       "      <th>3</th>\n",
       "      <td>{'src_ip': '168.1.239.225', 'src_port': 9, 'ds...</td>\n",
       "      <td>{'src_ip': '191.219.83.12', 'src_port': 65487,...</td>\n",
       "    </tr>\n",
       "    <tr>\n",
       "      <th>4</th>\n",
       "      <td>{'src_ip': '191.224.71.75', 'src_port': 69, 'd...</td>\n",
       "      <td>{'src_ip': '213.68.64.41', 'src_port': 65514, ...</td>\n",
       "    </tr>\n",
       "    <tr>\n",
       "      <th>5</th>\n",
       "      <td>{'src_ip': '213.71.241.101', 'src_port': 31, '...</td>\n",
       "      <td>{'src_ip': '238.255.165.57', 'src_port': 65518...</td>\n",
       "    </tr>\n",
       "    <tr>\n",
       "      <th>6</th>\n",
       "      <td>{'src_ip': '238.31.73.179', 'src_port': 1, 'ds...</td>\n",
       "      <td>{'src_ip': '3.57.196.112', 'src_port': 65392, ...</td>\n",
       "    </tr>\n",
       "    <tr>\n",
       "      <th>7</th>\n",
       "      <td>{'src_ip': '3.6.149.206', 'src_port': 53, 'dst...</td>\n",
       "      <td>{'src_ip': '51.49.25.156', 'src_port': 65517, ...</td>\n",
       "    </tr>\n",
       "    <tr>\n",
       "      <th>8</th>\n",
       "      <td>{'src_ip': '51.51.81.24', 'src_port': 64, 'dst...</td>\n",
       "      <td>{'src_ip': '77.102.222.156', 'src_port': 65470...</td>\n",
       "    </tr>\n",
       "    <tr>\n",
       "      <th>9</th>\n",
       "      <td>{'src_ip': '77.102.66.140', 'src_port': 48, 'd...</td>\n",
       "      <td>{'src_ip': '99.99.188.7', 'src_port': 65525, '...</td>\n",
       "    </tr>\n",
       "  </tbody>\n",
       "</table>\n",
       "</div>"
      ],
      "text/plain": [
       "                                                 min   \n",
       "0  {'src_ip': '0.112.77.223', 'src_port': 23, 'ds...  \\\n",
       "1  {'src_ip': '123.203.100.246', 'src_port': 78, ...   \n",
       "2  {'src_ip': '143.85.134.171', 'src_port': 74, '...   \n",
       "3  {'src_ip': '168.1.239.225', 'src_port': 9, 'ds...   \n",
       "4  {'src_ip': '191.224.71.75', 'src_port': 69, 'd...   \n",
       "5  {'src_ip': '213.71.241.101', 'src_port': 31, '...   \n",
       "6  {'src_ip': '238.31.73.179', 'src_port': 1, 'ds...   \n",
       "7  {'src_ip': '3.6.149.206', 'src_port': 53, 'dst...   \n",
       "8  {'src_ip': '51.51.81.24', 'src_port': 64, 'dst...   \n",
       "9  {'src_ip': '77.102.66.140', 'src_port': 48, 'd...   \n",
       "\n",
       "                                                 max  \n",
       "0  {'src_ip': '123.197.48.105', 'src_port': 65520...  \n",
       "1  {'src_ip': '143.77.124.105', 'src_port': 65376...  \n",
       "2  {'src_ip': '167.95.74.29', 'src_port': 65530, ...  \n",
       "3  {'src_ip': '191.219.83.12', 'src_port': 65487,...  \n",
       "4  {'src_ip': '213.68.64.41', 'src_port': 65514, ...  \n",
       "5  {'src_ip': '238.255.165.57', 'src_port': 65518...  \n",
       "6  {'src_ip': '3.57.196.112', 'src_port': 65392, ...  \n",
       "7  {'src_ip': '51.49.25.156', 'src_port': 65517, ...  \n",
       "8  {'src_ip': '77.102.222.156', 'src_port': 65470...  \n",
       "9  {'src_ip': '99.99.188.7', 'src_port': 65525, '...  "
      ]
     },
     "execution_count": 6,
     "metadata": {},
     "output_type": "execute_result"
    }
   ],
   "source": [
    "from deltalake import DeltaTable\n",
    "import pyarrow.dataset as ds\n",
    "\n",
    "\n",
    "dt = DeltaTable('../../data/security-table-part-by-range')\n",
    "dt.get_add_actions().to_pandas()[['min', 'max']]"
   ]
  },
  {
   "cell_type": "code",
   "execution_count": null,
   "id": "1382b363",
   "metadata": {},
   "outputs": [],
   "source": []
  }
 ],
 "metadata": {
  "kernelspec": {
   "display_name": "Python 3 (ipykernel)",
   "language": "python",
   "name": "python3"
  },
  "language_info": {
   "codemirror_mode": {
    "name": "ipython",
    "version": 3
   },
   "file_extension": ".py",
   "mimetype": "text/x-python",
   "name": "python",
   "nbconvert_exporter": "python",
   "pygments_lexer": "ipython3",
   "version": "3.11.2"
  }
 },
 "nbformat": 4,
 "nbformat_minor": 5
}
