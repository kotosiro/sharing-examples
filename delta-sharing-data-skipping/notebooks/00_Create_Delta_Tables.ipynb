{
 "cells": [
  {
   "cell_type": "markdown",
   "id": "4f71fe49",
   "metadata": {},
   "source": [
    "### Utility Functions"
   ]
  },
  {
   "cell_type": "code",
   "execution_count": null,
   "id": "fec282c4",
   "metadata": {
    "scrolled": true
   },
   "outputs": [],
   "source": [
    "import os\n",
    "import glob\n",
    "import itertools\n",
    "import random\n",
    "import socket\n",
    "import struct\n",
    "import boto3\n",
    "\n",
    "\n",
    "CLIENT = boto3.client('s3')\n",
    "\n",
    "def upload(table, bucket, path):\n",
    "    assert os.path.isdir(table)\n",
    "    for item in itertools.chain(glob.glob(table + '/**'), glob.glob(table + '/.**')):\n",
    "        if not os.path.isfile(item):\n",
    "            upload(item, bucket, path + '/' + os.path.basename(item))\n",
    "        else:\n",
    "            CLIENT.upload_file(\n",
    "                item,\n",
    "                bucket,\n",
    "                os.path.join(path, os.path.basename(item))\n",
    "            )\n",
    "\n",
    "\n",
    "def ipv4():\n",
    "    return socket.inet_ntoa(struct.pack('>I', random.randint(1, 0xffffffff)))\n",
    "\n",
    "\n",
    "def port():\n",
    "    return random.randrange(0, 65536)"
   ]
  },
  {
   "cell_type": "markdown",
   "id": "1c676c0c",
   "metadata": {},
   "source": [
    "### Prepare CSV File"
   ]
  },
  {
   "cell_type": "code",
   "execution_count": null,
   "id": "08f1a077",
   "metadata": {
    "scrolled": true
   },
   "outputs": [],
   "source": [
    "import csv\n",
    "\n",
    "\n",
    "with open('../../data/security.csv', 'w', newline='') as csvfile:\n",
    "    writer = csv.writer(\n",
    "        csvfile,\n",
    "        delimiter=',',\n",
    "    )\n",
    "    writer.writerow(['src_ip', 'src_port', 'dst_ip', 'dst_port'])\n",
    "    for _ in range(10_000):\n",
    "        writer.writerow([ipv4(), port(), ipv4(), port()])"
   ]
  },
  {
   "cell_type": "markdown",
   "id": "1246953e",
   "metadata": {},
   "source": [
    "### Setup Spark Session"
   ]
  },
  {
   "cell_type": "code",
   "execution_count": null,
   "id": "e22897c0",
   "metadata": {
    "scrolled": true
   },
   "outputs": [],
   "source": [
    "from pyspark.sql import SparkSession\n",
    "from delta import configure_spark_with_delta_pip\n",
    "\n",
    "\n",
    "builder = SparkSession.builder.appName('CreateDeltaTables') \\\n",
    "    .config(\n",
    "        'spark.jars.packages',\n",
    "        'io.delta:delta-core_2.12:2.2.0') \\\n",
    "    .config(\n",
    "        'spark.sql.extensions',\n",
    "        'io.delta.sql.DeltaSparkSessionExtension') \\\n",
    "    .config(\n",
    "        'spark.sql.catalog.spark_catalog',\n",
    "        'org.apache.spark.sql.delta.catalog.DeltaCatalog')\n",
    "\n",
    "spark = configure_spark_with_delta_pip(builder).getOrCreate()"
   ]
  },
  {
   "cell_type": "markdown",
   "id": "17f07040",
   "metadata": {},
   "source": [
    "### Load CSV"
   ]
  },
  {
   "cell_type": "code",
   "execution_count": null,
   "id": "c1925878",
   "metadata": {
    "scrolled": true
   },
   "outputs": [],
   "source": [
    "security = spark.read \\\n",
    "    .format('csv') \\\n",
    "    .option('header', 'true') \\\n",
    "    .option('inferSchema', 'true') \\\n",
    "    .load('../../data/security.csv')\n",
    "security.show(n=5, truncate=False, vertical=True)"
   ]
  },
  {
   "cell_type": "markdown",
   "id": "cea80102",
   "metadata": {},
   "source": [
    "### Split Delta Table"
   ]
  },
  {
   "cell_type": "code",
   "execution_count": null,
   "id": "fb7eac4d",
   "metadata": {
    "scrolled": true
   },
   "outputs": [],
   "source": [
    "n_splits = 10\n",
    "each_len = security.count() // n_splits\n",
    "copied = security\n",
    "\n",
    "i = 0\n",
    "while i < n_splits:\n",
    "    chunk = copied.limit(each_len)\n",
    "    copied = copied.subtract(chunk)\n",
    "    if i == 0:\n",
    "        chunk.write \\\n",
    "            .format('delta') \\\n",
    "            .save('../../data/security-table')\n",
    "    else:\n",
    "        chunk.write \\\n",
    "            .mode('append') \\\n",
    "            .format('delta') \\\n",
    "            .save('../../data/security-table')\n",
    "    i += 1"
   ]
  }
 ],
 "metadata": {
  "kernelspec": {
   "display_name": "Python 3 (ipykernel)",
   "language": "python",
   "name": "python3"
  },
  "language_info": {
   "codemirror_mode": {
    "name": "ipython",
    "version": 3
   },
   "file_extension": ".py",
   "mimetype": "text/x-python",
   "name": "python",
   "nbconvert_exporter": "python",
   "pygments_lexer": "ipython3",
   "version": "3.11.2"
  }
 },
 "nbformat": 4,
 "nbformat_minor": 5
}
