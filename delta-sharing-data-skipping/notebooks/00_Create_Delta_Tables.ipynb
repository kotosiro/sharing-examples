{
 "cells": [
  {
   "cell_type": "markdown",
   "id": "4f71fe49",
   "metadata": {},
   "source": [
    "### Utility Functions"
   ]
  },
  {
   "cell_type": "code",
   "execution_count": 1,
   "id": "fec282c4",
   "metadata": {},
   "outputs": [],
   "source": [
    "import os\n",
    "import glob\n",
    "import itertools\n",
    "import random\n",
    "import socket\n",
    "import struct\n",
    "import boto3\n",
    "\n",
    "\n",
    "CLIENT = boto3.client('s3')\n",
    "\n",
    "def upload(table, bucket, path):\n",
    "    assert os.path.isdir(table)\n",
    "    for item in itertools.chain(glob.glob(table + '/**'), glob.glob(table + '/.**')):\n",
    "        if not os.path.isfile(item):\n",
    "            upload(item, bucket, path + '/' + os.path.basename(item))\n",
    "        else:\n",
    "            CLIENT.upload_file(\n",
    "                item,\n",
    "                bucket,\n",
    "                os.path.join(path, os.path.basename(item))\n",
    "            )\n",
    "\n",
    "\n",
    "def ipv4():\n",
    "    return socket.inet_ntoa(struct.pack('>I', random.randint(1, 0xffffffff)))\n",
    "\n",
    "\n",
    "def port():\n",
    "    return random.randrange(0, 65536)"
   ]
  },
  {
   "cell_type": "markdown",
   "id": "673b8444",
   "metadata": {},
   "source": [
    "### Prepare CSV File"
   ]
  },
  {
   "cell_type": "code",
   "execution_count": 2,
   "id": "e40bbe1f",
   "metadata": {},
   "outputs": [],
   "source": [
    "import csv\n",
    "\n",
    "\n",
    "with open('../../data/security.csv', 'w', newline='') as csvfile:\n",
    "    writer = csv.writer(\n",
    "        csvfile,\n",
    "        delimiter=',',\n",
    "    )\n",
    "    writer.writerow(['src_ip', 'src_port', 'dst_ip', 'dst_port'])\n",
    "    for _ in range(100_000):\n",
    "        writer.writerow([ipv4(), port(), ipv4(), port()])"
   ]
  },
  {
   "cell_type": "markdown",
   "id": "1246953e",
   "metadata": {},
   "source": [
    "### Setup Spark Session"
   ]
  },
  {
   "cell_type": "code",
   "execution_count": 3,
   "id": "e22897c0",
   "metadata": {},
   "outputs": [
    {
     "name": "stdout",
     "output_type": "stream",
     "text": [
      "23/04/28 13:42:03 WARN Utils: Your hostname, aix.local resolves to a loopback address: 127.0.0.1; using 192.168.2.100 instead (on interface en0)\n",
      "23/04/28 13:42:03 WARN Utils: Set SPARK_LOCAL_IP if you need to bind to another address\n",
      ":: loading settings :: url = jar:file:/Users/shin/.local/share/virtualenvs/sharing-examples-hEeTnWv9/lib/python3.11/site-packages/pyspark/jars/ivy-2.5.1.jar!/org/apache/ivy/core/settings/ivysettings.xml\n"
     ]
    },
    {
     "name": "stderr",
     "output_type": "stream",
     "text": [
      "Ivy Default Cache set to: /Users/shin/.ivy2/cache\n",
      "The jars for the packages stored in: /Users/shin/.ivy2/jars\n",
      "io.delta#delta-core_2.12 added as a dependency\n",
      ":: resolving dependencies :: org.apache.spark#spark-submit-parent-c5d33e39-c713-47a4-8fc0-8ce4332d0353;1.0\n",
      "\tconfs: [default]\n",
      "\tfound io.delta#delta-core_2.12;2.2.0 in central\n",
      "\tfound io.delta#delta-storage;2.2.0 in central\n",
      "\tfound org.antlr#antlr4-runtime;4.8 in central\n",
      ":: resolution report :: resolve 276ms :: artifacts dl 12ms\n",
      "\t:: modules in use:\n",
      "\tio.delta#delta-core_2.12;2.2.0 from central in [default]\n",
      "\tio.delta#delta-storage;2.2.0 from central in [default]\n",
      "\torg.antlr#antlr4-runtime;4.8 from central in [default]\n",
      "\t---------------------------------------------------------------------\n",
      "\t|                  |            modules            ||   artifacts   |\n",
      "\t|       conf       | number| search|dwnlded|evicted|| number|dwnlded|\n",
      "\t---------------------------------------------------------------------\n",
      "\t|      default     |   3   |   0   |   0   |   0   ||   3   |   0   |\n",
      "\t---------------------------------------------------------------------\n",
      ":: retrieving :: org.apache.spark#spark-submit-parent-c5d33e39-c713-47a4-8fc0-8ce4332d0353\n",
      "\tconfs: [default]\n",
      "\t0 artifacts copied, 3 already retrieved (0kB/10ms)\n"
     ]
    },
    {
     "name": "stdout",
     "output_type": "stream",
     "text": [
      "23/04/28 13:42:04 WARN NativeCodeLoader: Unable to load native-hadoop library for your platform... using builtin-java classes where applicable\n"
     ]
    },
    {
     "name": "stderr",
     "output_type": "stream",
     "text": [
      "Setting default log level to \"WARN\".\n",
      "To adjust logging level use sc.setLogLevel(newLevel). For SparkR, use setLogLevel(newLevel).\n"
     ]
    }
   ],
   "source": [
    "from pyspark.sql import SparkSession\n",
    "from delta import configure_spark_with_delta_pip\n",
    "\n",
    "\n",
    "builder = SparkSession.builder.appName('CreateDeltaTables') \\\n",
    "    .config(\n",
    "        'spark.jars.packages',\n",
    "        'io.delta:delta-core_2.12:2.2.0') \\\n",
    "    .config(\n",
    "        'spark.sql.extensions',\n",
    "        'io.delta.sql.DeltaSparkSessionExtension') \\\n",
    "    .config(\n",
    "        'spark.sql.catalog.spark_catalog',\n",
    "        'org.apache.spark.sql.delta.catalog.DeltaCatalog')\n",
    "\n",
    "spark = configure_spark_with_delta_pip(builder).getOrCreate()"
   ]
  },
  {
   "cell_type": "markdown",
   "id": "17f07040",
   "metadata": {},
   "source": [
    "### Load CSV"
   ]
  },
  {
   "cell_type": "code",
   "execution_count": 4,
   "id": "c1925878",
   "metadata": {},
   "outputs": [
    {
     "name": "stderr",
     "output_type": "stream",
     "text": [
      "                                                                                \r"
     ]
    },
    {
     "name": "stdout",
     "output_type": "stream",
     "text": [
      "-RECORD 0-------------------\n",
      " src_ip   | 176.181.219.134 \n",
      " src_port | 3836            \n",
      " dst_ip   | 60.4.181.119    \n",
      " dst_port | 176             \n",
      "-RECORD 1-------------------\n",
      " src_ip   | 203.151.28.53   \n",
      " src_port | 31453           \n",
      " dst_ip   | 74.158.3.78     \n",
      " dst_port | 55840           \n",
      "-RECORD 2-------------------\n",
      " src_ip   | 95.231.173.163  \n",
      " src_port | 50204           \n",
      " dst_ip   | 36.213.129.216  \n",
      " dst_port | 14130           \n",
      "-RECORD 3-------------------\n",
      " src_ip   | 245.213.200.240 \n",
      " src_port | 53350           \n",
      " dst_ip   | 190.191.119.251 \n",
      " dst_port | 13394           \n",
      "-RECORD 4-------------------\n",
      " src_ip   | 31.190.212.201  \n",
      " src_port | 15051           \n",
      " dst_ip   | 255.123.161.96  \n",
      " dst_port | 64589           \n",
      "only showing top 5 rows\n",
      "\n"
     ]
    }
   ],
   "source": [
    "avocado = spark.read \\\n",
    "    .format('csv') \\\n",
    "    .option('header', 'true') \\\n",
    "    .option('inferSchema', 'true') \\\n",
    "    .load('../../data/security.csv')\n",
    "avocado.show(n=5, truncate=False, vertical=True)"
   ]
  },
  {
   "cell_type": "code",
   "execution_count": null,
   "id": "444aa288",
   "metadata": {},
   "outputs": [],
   "source": []
  }
 ],
 "metadata": {
  "kernelspec": {
   "display_name": "Python 3 (ipykernel)",
   "language": "python",
   "name": "python3"
  },
  "language_info": {
   "codemirror_mode": {
    "name": "ipython",
    "version": 3
   },
   "file_extension": ".py",
   "mimetype": "text/x-python",
   "name": "python",
   "nbconvert_exporter": "python",
   "pygments_lexer": "ipython3",
   "version": "3.11.2"
  }
 },
 "nbformat": 4,
 "nbformat_minor": 5
}
